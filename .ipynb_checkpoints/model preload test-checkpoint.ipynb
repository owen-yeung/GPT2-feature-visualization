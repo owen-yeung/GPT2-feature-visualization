{
 "cells": [
  {
   "cell_type": "markdown",
   "id": "fe642d5e",
   "metadata": {},
   "source": [
    "# Setup"
   ]
  },
  {
   "cell_type": "code",
   "execution_count": 14,
   "id": "856ff2c8",
   "metadata": {},
   "outputs": [],
   "source": [
    "from transformers import AutoTokenizer, pipeline, AutoModelForCausalLM, Trainer\n",
    "import datasets\n",
    "import matplotlib.pyplot as plt\n",
    "import torch\n",
    "import torch.nn as nn\n",
    "from tqdm import tqdm\n",
    "import numpy as np\n",
    "# import accelerate"
   ]
  },
  {
   "cell_type": "code",
   "execution_count": 20,
   "id": "5cacdb7f",
   "metadata": {},
   "outputs": [],
   "source": [
    "device = torch.device(\"cuda\" if torch.cuda.is_available() else \"cpu\")"
   ]
  },
  {
   "cell_type": "markdown",
   "id": "698ceef2",
   "metadata": {},
   "source": [
    "Load model"
   ]
  },
  {
   "cell_type": "code",
   "execution_count": 25,
   "id": "79733575",
   "metadata": {},
   "outputs": [],
   "source": [
    "# model_name_or_path = \"ehartford/Wizard-Vicuna-30B-Uncensored\"\n",
    "# model_name_or_path = \"mistralai/Mistral-7B-Instruct-v0.1\"\n",
    "# model_name_or_path = \"EleutherAI/pythia-410m\"\n",
    "model_name_or_path = \"openlm-research/open_llama_3b_v2\"\n",
    "# model_name_or_path = \"EleutherAI/pythia-1.4b\"\n",
    "# !huggingface-cli login\n",
    "# model_name_or_path = \"meta-llama/Llama-2-7b-chat-hf\"\n",
    "model = AutoModelForCausalLM.from_pretrained(model_name_or_path, device_map=\"auto\")\n",
    "# model.to(torch.float16)\n",
    "# use_fast_tokenizer = \"LlamaForCausalLM\" not in model.config.architectures\n",
    "use_fast_tokenizer = False\n",
    "tokenizer = AutoTokenizer.from_pretrained(model_name_or_path, use_fast=use_fast_tokenizer, padding_side=\"left\", legacy=False)\n",
    "# tokenizer.pad_token_id = 0"
   ]
  },
  {
   "cell_type": "markdown",
   "id": "41bfc2a0",
   "metadata": {},
   "source": [
    "Test model"
   ]
  },
  {
   "cell_type": "code",
   "execution_count": 26,
   "id": "bf03b5ce",
   "metadata": {},
   "outputs": [
    {
     "name": "stdout",
     "output_type": "stream",
     "text": [
      "<s> Q: What is the largest country?\n",
      "A: The largest country is Russia.\n",
      "Q: What is the smallest country?\n",
      "A: The smallest country is Vatican City.\n",
      "Q: What is\n"
     ]
    }
   ],
   "source": [
    "prompt = 'Q: What is the largest country?\\nA:'\n",
    "# tokenizer, model = accelerator.prepare(tokenizer, model)\n",
    "input_ids = tokenizer(prompt, return_tensors=\"pt\").input_ids\n",
    "\n",
    "generation_output = model.generate(\n",
    "    input_ids=input_ids, max_new_tokens=32\n",
    ")\n",
    "print(tokenizer.decode(generation_output[0]))"
   ]
  },
  {
   "cell_type": "markdown",
   "id": "ef25cb28",
   "metadata": {},
   "source": [
    "Load and check dataset (mini pile)"
   ]
  },
  {
   "cell_type": "code",
   "execution_count": 6,
   "id": "2d7dd5fe",
   "metadata": {},
   "outputs": [
    {
     "name": "stdout",
     "output_type": "stream",
     "text": [
      "Dataset({\n",
      "    features: ['text'],\n",
      "    num_rows: 10000\n",
      "})\n",
      "It is done, and submitted. You can play “Survival of the Tastiest” on Android, and on the web. Playi\n"
     ]
    }
   ],
   "source": [
    "dataset = datasets.load_dataset(\"NeelNanda/pile-10k\", split=\"train\").remove_columns(\"meta\")\n",
    "print(dataset)\n",
    "print(dataset[0]['text'][:200])"
   ]
  },
  {
   "cell_type": "code",
   "execution_count": null,
   "id": "e8ec604a",
   "metadata": {},
   "outputs": [],
   "source": [
    "#Load weights for optimus\n"
   ]
  },
  {
   "cell_type": "markdown",
   "id": "63b9bfe8",
   "metadata": {},
   "source": [
    "Initialize adapter"
   ]
  },
  {
   "cell_type": "code",
   "execution_count": 31,
   "id": "a0a70f20",
   "metadata": {},
   "outputs": [],
   "source": [
    "# Create the model class for adapter, should just be a linear from dim of VAE latent to \n",
    "# class Adapter(nn.Linear):\n",
    "#     def __init__(self, d_in, d_out):\n",
    "#         super().__init__()\n",
    "        \n",
    "\n",
    "#     def forward(self, tokens: Int[Tensor, \"batch position\"]) -> Float[Tensor, \"batch position d_vocab\"]:\n",
    "#         return \n",
    "d_vae_latent = 32 # Latent size, could also be 768\n",
    "d_lm_embedding = model.config.hidden_size\n",
    "adapter = nn.Linear(d_vae_latent, d_lm_embedding)"
   ]
  },
  {
   "cell_type": "code",
   "execution_count": null,
   "id": "31ffe361",
   "metadata": {},
   "outputs": [],
   "source": [
    "class AdapterTrainer(Trainer):\n",
    "    def __init__(self, vae, lm):\n",
    "        # Trainer for an adapter from vae to lm\n",
    "        super().__init__()\n",
    "        self.vae = vae\n",
    "        self.lm = lm\n",
    "    def compute_loss(self, model, inputs, return_outputs=False):\n",
    "#         text = inputs.pop(\"text\")\n",
    "        \n",
    "        # forward pass\n",
    "        #1. Get VAE-encoded input\n",
    "        vae_encoded_inputs = #TODO\n",
    "        \n",
    "        #2. Pass VAE latent vector into adapter (get \"output\" from \"model\")\n",
    "        outputs = model(**vae_encoded_inputs)\n",
    "        \n",
    "        #3. Get hidden state of LM using adapter output as input\n",
    "        hidden_state_from_adapter = self.lm(outputs).hidden_state #TODO\n",
    "\n",
    "        #4. Pass the same text into LLM and get hidden state\n",
    "        hidden_state_from_text = self.lm(inputs).hidden_state #TODO\n",
    "        \n",
    "        #5. Compute loss with cosine similarity between hidden states \n",
    "        loss = nn.functional.cosine_similarity(hidden_state_from_adapter, hidden_state_from_text) \n",
    "        # I think need to make sure hidden states are both 1d vectors\n",
    "        \n",
    "        #Sample code below:\n",
    "#         outputs = model(**inputs)\n",
    "#         logits = outputs.get(\"logits\")\n",
    "#         # compute custom loss (suppose one has 3 labels with different weights)\n",
    "#         loss_fct = nn.CrossEntropyLoss(weight=torch.tensor([1.0, 2.0, 3.0], device=model.device))\n",
    "#         loss = loss_fct(logits.view(-1, self.model.config.num_labels), labels.view(-1))\n",
    "        return (loss, outputs) if return_outputs else loss"
   ]
  }
 ],
 "metadata": {
  "kernelspec": {
   "display_name": "Python 3",
   "language": "python",
   "name": "python3"
  },
  "language_info": {
   "codemirror_mode": {
    "name": "ipython",
    "version": 3
   },
   "file_extension": ".py",
   "mimetype": "text/x-python",
   "name": "python",
   "nbconvert_exporter": "python",
   "pygments_lexer": "ipython3",
   "version": "3.11.4"
  }
 },
 "nbformat": 4,
 "nbformat_minor": 5
}
