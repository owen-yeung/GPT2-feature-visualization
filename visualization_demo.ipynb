{
 "cells": [
  {
   "cell_type": "markdown",
   "id": "fe642d5e",
   "metadata": {},
   "source": [
    "# Setup"
   ]
  },
  {
   "cell_type": "markdown",
   "metadata": {},
   "source": [
    "Make sure you're in the spar-red-tem/owen directory"
   ]
  },
  {
   "cell_type": "code",
   "execution_count": 1,
   "metadata": {},
   "outputs": [
    {
     "name": "stdout",
     "output_type": "stream",
     "text": [
      "Adapter.ipynb          \u001b[0m\u001b[38;5;27mREMEDI\u001b[0m/                      Terminal commands.txt\n",
      "\u001b[38;5;27mlm_vector_arithmetic\u001b[0m/  \u001b[38;5;27mrepresentation-engineering\u001b[0m/  \u001b[38;5;27mtest_trainer\u001b[0m/\n",
      "\u001b[38;5;27mOptimus_dir\u001b[0m/           run_latent_generation.ipynb  visualization_demo.ipynb\n",
      "\u001b[38;5;27m__pycache__\u001b[0m/           \u001b[38;5;27msteering\u001b[0m/                    \u001b[38;5;27mwandb\u001b[0m/\n"
     ]
    }
   ],
   "source": [
    "# %cd ..\n",
    "%ls"
   ]
  },
  {
   "cell_type": "code",
   "execution_count": 2,
   "id": "856ff2c8",
   "metadata": {},
   "outputs": [],
   "source": [
    "from transformers import Trainer, TrainingArguments\n",
    "# import datasets\n",
    "import matplotlib.pyplot as plt\n",
    "import torch.nn as nn\n",
    "# from tqdm import tqdm\n",
    "import torch\n",
    "# import pandas as pd\n",
    "\n",
    "# import numpy as np\n",
    "\n",
    "# import accelerate"
   ]
  },
  {
   "cell_type": "markdown",
   "metadata": {},
   "source": [
    "# Optimus"
   ]
  },
  {
   "cell_type": "code",
   "execution_count": 1,
   "metadata": {},
   "outputs": [],
   "source": [
    "from Optimus_dir.code.Optimus import Optimus"
   ]
  },
  {
   "cell_type": "markdown",
   "metadata": {},
   "source": [
    "# Compare effect of latent size\n",
    "\n",
    "Seems like latent_size=32 makes the sentences \"closer\"? But reconstruction seems worse\n",
    "\n",
    "Observations:\n",
    "- Some latents get \"translated\" into either nothing or seemingly meaningless rambling. Some latents produce semantically similar words though.\n",
    "- Longer sentences seem to reconstruct better than words/short sentences?"
   ]
  },
  {
   "cell_type": "code",
   "execution_count": 3,
   "id": "5cacdb7f",
   "metadata": {},
   "outputs": [
    {
     "name": "stdout",
     "output_type": "stream",
     "text": [
      "cuda\n"
     ]
    }
   ],
   "source": [
    "device = torch.device(\"cuda\" if torch.cuda.is_available() else \"cpu\")\n",
    "print(device)\n"
   ]
  },
  {
   "cell_type": "markdown",
   "metadata": {},
   "source": [
    "Load Optimus with latent_size 32"
   ]
  },
  {
   "cell_type": "code",
   "execution_count": 4,
   "metadata": {},
   "outputs": [
    {
     "name": "stdout",
     "output_type": "stream",
     "text": [
      "We have added 3 tokens to GPT2\n"
     ]
    },
    {
     "ename": "AttributeError",
     "evalue": "'Optimus' object has no attribute 'device'",
     "output_type": "error",
     "traceback": [
      "\u001b[0;31m---------------------------------------------------------------------------\u001b[0m",
      "\u001b[0;31mAttributeError\u001b[0m                            Traceback (most recent call last)",
      "\u001b[1;32m/data/joshua_clymer/spar-red-team/owen/visualization_demo.ipynb Cell 10\u001b[0m line \u001b[0;36m2\n\u001b[1;32m      <a href='vscode-notebook-cell://ssh-remote%2B7b22686f73744e616d65223a22636f6d707574652e736166652e6169222c2275736572223a226a6f736875615f636c796d6572227d/data/joshua_clymer/spar-red-team/owen/visualization_demo.ipynb#X11sdnNjb2RlLXJlbW90ZQ%3D%3D?line=0'>1</a>\u001b[0m \u001b[39m#TODO decouple from Optimus\u001b[39;00m\n\u001b[0;32m----> <a href='vscode-notebook-cell://ssh-remote%2B7b22686f73744e616d65223a22636f6d707574652e736166652e6169222c2275736572223a226a6f736875615f636c796d6572227d/data/joshua_clymer/spar-red-team/owen/visualization_demo.ipynb#X11sdnNjb2RlLXJlbW90ZQ%3D%3D?line=1'>2</a>\u001b[0m vae32 \u001b[39m=\u001b[39m Optimus(\u001b[39m32\u001b[39;49m)\n",
      "File \u001b[0;32m~/spar-red-team/owen/Optimus_dir/code/Optimus.py:149\u001b[0m, in \u001b[0;36mOptimus.__init__\u001b[0;34m(self, latent_size, beta)\u001b[0m\n\u001b[1;32m    146\u001b[0m \u001b[39mself\u001b[39m\u001b[39m.\u001b[39margs \u001b[39m=\u001b[39m args\n\u001b[1;32m    148\u001b[0m bos_id \u001b[39m=\u001b[39m \u001b[39mself\u001b[39m\u001b[39m.\u001b[39mmodel_vae\u001b[39m.\u001b[39mtokenizer_decoder\u001b[39m.\u001b[39mencode(\u001b[39m'\u001b[39m\u001b[39m<BOS>\u001b[39m\u001b[39m'\u001b[39m)\n\u001b[0;32m--> 149\u001b[0m bos_id \u001b[39m=\u001b[39m torch\u001b[39m.\u001b[39mtensor(bos_id, dtype\u001b[39m=\u001b[39mtorch\u001b[39m.\u001b[39mlong, device\u001b[39m=\u001b[39m\u001b[39mself\u001b[39;49m\u001b[39m.\u001b[39;49mdevice)\n\u001b[1;32m    150\u001b[0m \u001b[39mself\u001b[39m\u001b[39m.\u001b[39mbos_id \u001b[39m=\u001b[39m bos_id\u001b[39m.\u001b[39munsqueeze(\u001b[39m0\u001b[39m)\u001b[39m.\u001b[39mrepeat(\u001b[39m1\u001b[39m, \u001b[39m1\u001b[39m)\n",
      "\u001b[0;31mAttributeError\u001b[0m: 'Optimus' object has no attribute 'device'"
     ]
    }
   ],
   "source": [
    "#TODO decouple from Optimus\n",
    "vae32 = Optimus(32)"
   ]
  },
  {
   "cell_type": "markdown",
   "metadata": {},
   "source": [
    "Load Optimus with latent_size 768"
   ]
  },
  {
   "cell_type": "code",
   "execution_count": 6,
   "metadata": {},
   "outputs": [
    {
     "name": "stdout",
     "output_type": "stream",
     "text": [
      "We have added 3 tokens to GPT2\n"
     ]
    }
   ],
   "source": [
    "vae768 = Optimus(768)\n",
    "# vae = vae.model_vae"
   ]
  },
  {
   "cell_type": "code",
   "execution_count": 6,
   "metadata": {},
   "outputs": [
    {
     "ename": "NameError",
     "evalue": "name 'vae32' is not defined",
     "output_type": "error",
     "traceback": [
      "\u001b[0;31m---------------------------------------------------------------------------\u001b[0m",
      "\u001b[0;31mNameError\u001b[0m                                 Traceback (most recent call last)",
      "\u001b[1;32m/data/joshua_clymer/spar-red-team/owen/visualization_demo.ipynb Cell 13\u001b[0m line \u001b[0;36m1\n\u001b[0;32m----> <a href='vscode-notebook-cell://ssh-remote%2B7b22686f73744e616d65223a22636f6d707574652e736166652e6169222c2275736572223a226a6f736875615f636c796d6572227d/data/joshua_clymer/spar-red-team/owen/visualization_demo.ipynb#X35sdnNjb2RlLXJlbW90ZQ%3D%3D?line=0'>1</a>\u001b[0m hidden \u001b[39m=\u001b[39m vae32\u001b[39m.\u001b[39mget_activations(vae32\u001b[39m.\u001b[39mlatent_code_from_text(\u001b[39m'\u001b[39m\u001b[39mhello\u001b[39m\u001b[39m'\u001b[39m)[\u001b[39m0\u001b[39m], \u001b[39m'\u001b[39m\u001b[39mhello\u001b[39m\u001b[39m'\u001b[39m)\n\u001b[1;32m      <a href='vscode-notebook-cell://ssh-remote%2B7b22686f73744e616d65223a22636f6d707574652e736166652e6169222c2275736572223a226a6f736875615f636c796d6572227d/data/joshua_clymer/spar-red-team/owen/visualization_demo.ipynb#X35sdnNjb2RlLXJlbW90ZQ%3D%3D?line=1'>2</a>\u001b[0m \u001b[39mprint\u001b[39m (hidden\u001b[39m.\u001b[39mshape)\n",
      "\u001b[0;31mNameError\u001b[0m: name 'vae32' is not defined"
     ]
    }
   ],
   "source": [
    "hidden = vae32.get_activations(vae32.latent_code_from_text('hello')[0], 'hello')\n",
    "print (hidden.shape)"
   ]
  },
  {
   "cell_type": "code",
   "execution_count": 7,
   "metadata": {},
   "outputs": [
    {
     "name": "stdout",
     "output_type": "stream",
     "text": [
      "\"love\" encoded and decoded:\n"
     ]
    },
    {
     "name": "stdout",
     "output_type": "stream",
     "text": [
      "Decoding 1: Sophia\n",
      "Decoding 2: protagonist\n",
      "Decoding 3: Chief?\n",
      "Decoding 4: Alan Casciano\n",
      "Decoding 5: Robin.\n",
      "\n",
      "\n",
      "\"hate\" encoded and decoded:\n",
      "Decoding 1: Nation\n",
      "Decoding 2: ( A ^\n",
      "Decoding 3: Call\n",
      "Decoding 4: Man <PAD>\n",
      "Decoding 5: The KAn.\n",
      "\n",
      "\n",
      "\"I love you so much!\" encoded and decoded:\n",
      "Decoding 1: Runew!\n",
      "Decoding 2: You've made me happy.\"\n",
      "Decoding 3: Hey All, glad I'm here.\n",
      "Decoding 4: It's Kimmy.\"\n",
      "Decoding 5: Oh, I really love you!\n",
      "\n",
      "\n",
      "\"I hate you so much!\" encoded and decoded:\n",
      "Decoding 1: I'm not happy and right?\n",
      "Decoding 2: Every time I hit the person, I'm all crying.'\n",
      "Decoding 3: You're going to change my mind!\n",
      "Decoding 4: When you get angry and not spite her, I'm gonna sing you a song.\"\n",
      "Decoding 5: I am sad that God shut me down.\n",
      "\n",
      "\n"
     ]
    }
   ],
   "source": [
    "vae32.print_text(\n",
    "    \"love\", \n",
    "    'hate', \n",
    "    'I love you so much!', \n",
    "    'I hate you so much!'\n",
    "    )"
   ]
  },
  {
   "cell_type": "code",
   "execution_count": 8,
   "metadata": {},
   "outputs": [
    {
     "name": "stdout",
     "output_type": "stream",
     "text": [
      "\"love\" encoded and decoded:\n",
      "Decoding 1: \n",
      "Decoding 2: 46\n",
      "Decoding 3: \n",
      "Decoding 4: \n",
      "Decoding 5: \n",
      "\n",
      "\n",
      "\"hate\" encoded and decoded:\n",
      "Decoding 1: 87\n",
      "Decoding 2: \n",
      "Decoding 3: \n",
      "Decoding 4: \n",
      "Decoding 5: 1\n",
      "\n",
      "\n",
      "\"I love you so much!\" encoded and decoded:\n",
      "Decoding 1: Love is like Romeo!'\n",
      "Decoding 2: It is beautiful!\"\n",
      "Decoding 3: She stands for everything!\n",
      "Decoding 4: It is splendid!\"\n",
      "Decoding 5: We have same love for you\".\n",
      "\n",
      "\n",
      "\"I hate you so much!\" encoded and decoded:\n",
      "Decoding 1: There's someone singing me song tomorrow!\"\n",
      "Decoding 2: \"I hate Grandpa Christine!\"\n",
      "Decoding 3: No they swear...\"?\n",
      "Decoding 4: Béhtina loves her.\n",
      "Decoding 5: Tmed to call me 'pipe shill'.\n",
      "\n",
      "\n"
     ]
    }
   ],
   "source": [
    "vae768.print_text(\n",
    "    \"love\", \n",
    "    'hate', \n",
    "    'I love you so much!', \n",
    "    'I hate you so much!'\n",
    "    )"
   ]
  },
  {
   "cell_type": "code",
   "execution_count": 9,
   "metadata": {},
   "outputs": [
    {
     "name": "stdout",
     "output_type": "stream",
     "text": [
      "\"Shaquille O'Neal is a 7-foot-1-inch (2.16 m) and 325-pound (147 kg) center who played for six teams over his 19-year career in the National Basketball Association (NBA) and is a four-time NBA champion. O'Neal is regarded as one of the greatest basketball players and centers of all time.\" encoded and decoded:\n"
     ]
    },
    {
     "name": "stdout",
     "output_type": "stream",
     "text": [
      "Decoding 1: Jean Patrick Done (nicknamed \"Matt Done Weasel\", \"Shaneed Done\", for about his skills as a linebacker, punt returner, middle defensive end, defensive back, middle linebacker, receiver), 6'1\", 207 pounds and retired from professional football according to SportsPulse.\n",
      "Decoding 2: Keller is a 2009 Senior State of Origin All-American, and is fifth in the Texas Bulbuls team of the year with 16.29:53:1, and third in the National Long Distance High School team with 18.29:51:1 with 33.5:31: Weight.\n",
      "Decoding 3: Spangler of the NFL, Dash Grove, is a former youth football player, major league player and solo national champion who competed in the Senior National Football League (NFL), the Youth National Football League (NFL), the National Senior Football Game (NFL), the National Softball Little League (NFL), NCAA Division I Trojans, the National Senior Professional League (SEPA), and all other Division I leagues.\n",
      "Decoding 4: Betkevich is a former 15–man, junior middleweight middleweight who knocked out Jörg Lang on Strikeforce (25-13), Brian Wood, Steve Spangler, Chris Simonson, Phil Wyshynski and Arthur Ashe on Strikeforce (21-8).\n",
      "Decoding 5: Ludwell Robbins (born January 6, 1975, in Saint Augustine, Florida) is an American football middleweight boxer who fully trained and competed at the highest level of competition, with both victory and defeat points stating that in his professional career he has been an all-time great boxer and welterweight.\n",
      "\n",
      "\n",
      "\"Benzene is a natural constituent of petroleum and is one of the elementary petrochemicals. Due to the cyclic continuous pi bonds between the carbon atoms, benzene is classed as an aromatic hydrocarbon. Benzene is a colorless and highly flammable liquid with a sweet smell, and is partially responsible for the aroma of gasoline.\" encoded and decoded:\n",
      "Decoding 1: Sulfates such as Magnesium boronate, C soxilate, Psilocetene, and fromylene oxide, are estimated to be silica free, atom chelated, or chelated with silylation, and most commonly used in regulation of mitochondrial growth.\n",
      "Decoding 2: is a lipid-free, dithydroacyl derivative believed to be used for its aforementioned anti-inflammatory activity, and a special kind of dithystole used in manufacturing clothes that contain it.\n",
      "Decoding 3: Coal-adhesive (CGA) is the most common compound used in plastics ever produced, as it is a structure in a wide variety of organic materials, including plastics, tephedromine, and sal and microwave.\n",
      "Decoding 4: Caustic acid, as an anticonvulsant or a useful superdrug, has been investigated using the following conditions: Filane, is Ethrichrone, is Acetyl Disthenate, and Ethheptagon (a compound produced as a precursor toaldehyde).\n",
      "Decoding 5: bright amide (bright cation) is one of the primary industrial products of uranium-235 trioxide precursors and is in the human diet at large because of its high strength and low solubility.\n",
      "\n",
      "\n",
      "\"basketball basketball basketball basketball basketball basketball basketball basketball basketball basketball basketball basketball basketball basketball basketball basketball basketball basketball basketball basketball \" encoded and decoded:\n",
      "Decoding 1: swimming boating (\"Sowashae Polley\"), lacrosse, football, hockey, baseball, U.S.A.\n",
      "Decoding 2: Mahboy & Karolina style tennis (30-40 minutes – 10 minutes) Mac Van Vliet offensive and defensive is the American Indian Winter Games.\n",
      "Decoding 3: Merit Reliquary – The MBC Plays Reliquary for Boys and Girls.\n",
      "Decoding 4: Open Wrestling: Teens can play All Star Wrestling (AAW) and coach Unforgivable wrestling, a WKOH.\n",
      "Decoding 5: American gymnastics players are: Yang Chai by mahōshi (9809 speed gymnastics); Toh Naocha by tanzan (2003).\n",
      "\n",
      "\n",
      "\"chemistry chemistry chemistry chemistry chemistry chemistry chemistry chemistry chemistry chemistry chemistry chemistry chemistry chemistry chemistry chemistry chemistry chemistry chemistry chemistry \" encoded and decoded:\n",
      "Decoding 1: Ph.D. (Complex Structures of Analytical Syllables): Ph.D.\n",
      "Decoding 2: Terminology: Agile Terminology, in minor.\n",
      "Decoding 3: Wireless Systems Instructional Methods : 60 <All Numeric Programming Scheme> Performant Programming Scheme <PAD> File Instruction, Length = 100\n",
      "Decoding 4: MPSR Synthesis #MHTP Genomic Data Library: CN:\n",
      "Decoding 5: IBM Plastics & Numbers II-I-III CLLs (1983 : computer plastics.\n",
      "\n",
      "\n"
     ]
    }
   ],
   "source": [
    "shaq = \"Shaquille O'Neal is a 7-foot-1-inch (2.16 m) and 325-pound (147 kg) center who played for six teams over his 19-year career in the National Basketball Association (NBA) and is a four-time NBA champion. O'Neal is regarded as one of the greatest basketball players and centers of all time.\"\n",
    "benzene = \"Benzene is a natural constituent of petroleum and is one of the elementary petrochemicals. Due to the cyclic continuous pi bonds between the carbon atoms, benzene is classed as an aromatic hydrocarbon. Benzene is a colorless and highly flammable liquid with a sweet smell, and is partially responsible for the aroma of gasoline.\"\n",
    "vae32.print_text(shaq, benzene)\n",
    "baseline_sports = \"basketball \" * 20\n",
    "baseline_chemistry = \"chemistry \" * 20\n",
    "vae32.print_text(baseline_sports, baseline_chemistry)"
   ]
  },
  {
   "cell_type": "code",
   "execution_count": 10,
   "metadata": {},
   "outputs": [
    {
     "name": "stdout",
     "output_type": "stream",
     "text": [
      "\"Shaquille O'Neal is a 7-foot-1-inch (2.16 m) and 325-pound (147 kg) center who played for six teams over his 19-year career in the National Basketball Association (NBA) and is a four-time NBA champion. O'Neal is regarded as one of the greatest basketball players and centers of all time.\" encoded and decoded:\n"
     ]
    },
    {
     "name": "stdout",
     "output_type": "stream",
     "text": [
      "Decoding 1: Over the years Riley Hall, a former NBA defensive back, college center and NBA prospect who is also best known for being a Vezina Trophy finalist for Anthony Davis and passed for 226 points and 62 shots at the 1999 NBA Slam Dunk Contest, and a National Basketball Association record for 1825 fouls.\n",
      "Decoding 2: Late Smyth, 6 feet 6\", 185 pounds, left the NBA in 1985rd year of his late father, Drury Smyth Tallinn, who was drafted as one of the top power forwards in the League by the New York Knicks, and before he retired from the game.\n",
      "Decoding 3: Reid is currently retired from football, sports and high school football, and his pro wrestling title is with the Cypriot Hezbollah National Fighting Championships in Patsy responded to Floyd Landay: \"In eleven years, he considers himself as a nation's heaviest hitter around the bend, with a 752-pound frame (7.5 kg) frame.\"\n",
      "Decoding 4: Rachael Evans (born March 8, 1961 and born July 6, 2002) is a leading college football player at the NFL level, leading Houston Texans to their first ever divisional Academic All-American advantage and second consecutive with double-digit passes.\n",
      "Decoding 5: Goldstein, 24, was inducted into the College Football Hall of Fame, which is his idol, and a third-round pick by the Philadelphia Eagles in the 1989 NFL Draft, in the 26th round of the 2011 NFL Draft.\n",
      "\n",
      "\n",
      "\"Benzene is a natural constituent of petroleum and is one of the elementary petrochemicals. Due to the cyclic continuous pi bonds between the carbon atoms, benzene is classed as an aromatic hydrocarbon. Benzene is a colorless and highly flammable liquid with a sweet smell, and is partially responsible for the aroma of gasoline.\" encoded and decoded:\n",
      "Decoding 1: The bacteria in capixinolate are dichloride hydride, meaning that water obtained through hydrolysis of capixinolates with benzene gas (ethyl borate) is then transferred to the capixinolate oxide of capixinolmia, the most common element.\n",
      "Decoding 2: As in ceratium nitrate, heavy sinors such as arsenic nitrate and benzenyl alcohol are extremely dangerous to humans and for humans many things occur naturally in metalified silver perchlorate: major alcohols such as ethyl alcohol convert to doze once they start to dissolve, emitting a gas.\n",
      "Decoding 3: A zinc catalytic compound (ZC), made from Chromium hydroxide, is a member of superoxide cyanide (HCO), a stable-phase room: other stable hydrocarbons such as acetonylglycerol, styrene, tetracylglycerol, and others are also used.\n",
      "Decoding 4: Sp1 of the \"ribodoxylla\", Marshelle pieperilla, is a moderately potent plant, and is much more beneficial in terms of its chlorophyll content than other natural amines, such as laurate and heptazolam.\n",
      "Decoding 5: Five thorabantium chloride receptors differ entirely from 50 thorabantium chloride receptors: (42Arasine) is the most common sulphate body bindingly glutamatergic, with the initial molecular structure of those receptors typically using carbon atoms.\n",
      "\n",
      "\n"
     ]
    }
   ],
   "source": [
    "vae768.print_text(shaq, benzene)"
   ]
  },
  {
   "cell_type": "code",
   "execution_count": 11,
   "metadata": {},
   "outputs": [
    {
     "name": "stdout",
     "output_type": "stream",
     "text": [
      "\"Shaquille O'Neal is a 7-foot-1-inch (2.16 m) and 325-pound (147 kg) center who played for six teams over his 19-year career in the National Basketball Association (NBA) and is a four-time NBA champion. O'Neal is regarded as one of the greatest basketball players and centers of all time.\" encoded and decoded:\n"
     ]
    },
    {
     "name": "stdout",
     "output_type": "stream",
     "text": [
      "Decoding 1: Bob Belcher Born 6 June 1969, Evans is an American tennis player who is a former member of the \"Tennis American Players\" (UATL player of the Week), one of the most decorated professional players of all time at the University of Oklahoma and brought a heritage of winning medals for his country.\n",
      "Decoding 2: Sherman is a baseball player who batting average and.412 on service in 39 games in Major League Baseball (22 with the Kansas City Royals), in a career last 18 months spanning 142 major league games (over 17,000 innings), so, Major League Baseball seems to have seen the versatile and from deep hitter.\n",
      "Decoding 3: Steve Johnson is a skinny, 225-pound center, who is known as the \"big brother\" and White Cross Lindsay belongs to the 2007 Southwest Division Second Country Open and the 2009 Eastern Conference Second Country Olympic Nerrod, as he did for seven rounds organized by Promo Arena.\n",
      "Decoding 4: Andrew Robinson is an American flyweight stover, who has won seven straight fights at light heavyweight in his career, all by \"The Straight Hitter vs. American Bray Wyatt\" and pulls out a decision in a decision loss to Neil Brooksville.\n",
      "Decoding 5: Bart Bowden is the USA Presley and Junior Tournament All-American for the 1992 Summer Olympics won by San Francisco native Gary Wood (4G), who holds a complete 34-year career record of 5–59, passing for 4,223 men, making 65,985 saves.\n",
      "\n",
      "\n",
      "\"Benzene is a natural constituent of petroleum and is one of the elementary petrochemicals. Due to the cyclic continuous pi bonds between the carbon atoms, benzene is classed as an aromatic hydrocarbon. Benzene is a colorless and highly flammable liquid with a sweet smell, and is partially responsible for the aroma of gasoline.\" encoded and decoded:\n",
      "Decoding 1: Naphthalenes contains diacetylsulfone, an antibody opioid, against the embolism, and is commonly found in oils such as oil made from dromaloxyl and in cough pills, squalene pills and plastic.\n",
      "Decoding 2: Agrolean glycopilene (GA), is a glycopilic glycar, which is known to be used in the synthesis of polycyclic aromatic hydrocarbons and butyrate, as well as in the treatment of acne, psoriasis, psoriasis, and psoriasis specific cosmetic skin types.\n",
      "Decoding 3: Benzene is a predominantly hydroxyltryptophane (HT) compound that can be combined with other compounds such as oxybenzone, methionone used in the cosmetics industry, sympathomimetic compounds on the plant, flavonoid and aromatase compounds on the human body.\n",
      "Decoding 4: C-809 is a synthetic cancer drug, and it is a synthetic derivative of \"SA\" - the endogenous sulfonate of a compound naturally occurring in wheat and probably other wheat germ production plants linked to breast cancer.\n",
      "Decoding 5: biodiesel was first discovered with a single-carbon compound propyl alcohols used in auto and plastic construction for industrial applications, when fibers of indole, ethyl alcohols and low ethanol were first described.\n",
      "\n",
      "\n"
     ]
    }
   ],
   "source": [
    "vae32.print_text(shaq, benzene, perturb=0.01)"
   ]
  },
  {
   "cell_type": "code",
   "execution_count": 12,
   "metadata": {},
   "outputs": [
    {
     "name": "stdout",
     "output_type": "stream",
     "text": [
      "\"Shaquille O'Neal is a 7-foot-1-inch (2.16 m) and 325-pound (147 kg) center who played for six teams over his 19-year career in the National Basketball Association (NBA) and is a four-time NBA champion. O'Neal is regarded as one of the greatest basketball players and centers of all time.\" encoded and decoded:\n"
     ]
    },
    {
     "name": "stdout",
     "output_type": "stream",
     "text": [
      "Decoding 1: Genesi (born October 22, 1961) is a retired professional basketball player from Cazenovia who advanced to the NBA Draft from the Oakland A's affiliate team of the Hard Knocks in 1971, and play in 511 NBA seasons as well as an announcer for the Cleveland Cavaliers.\n",
      "Decoding 2: Mr. Hayes ran for a gold medal in the 5000 metres at the 1984 London Olympics; twice surpassed by Lt. Tim Couch (170 metres), Jim Plummer (170 meters) and more than anyone of his position, both marathon runners.\n",
      "Decoding 3: Major Patrick A. Rees-Mogg (born December 6, 1970) is a professional basketball player from Dallas, Texas, who played as a reserve guard and as a wide receiver (also balloting for Cowboys Mike Williams, Roy Rogers, and coaches Dick Morris and David Williams).\n",
      "Decoding 4: Kaiser Wilcox is an American football figure (5-6), 5-10, with 8.51 yards and 184 receiving yards, including 3 induced touchdowns; and 5 career interceptions.\n",
      "Decoding 5: By September 1986, PAW Miss Judge had traveled to 72 major bowl games since 1948, the longest active streak of Masters in U.S. National Wrestling League history, compounding his career with four wins in three rings and a decision to Ashley Eckersley, WIK, 1992.\n",
      "\n",
      "\n",
      "\"Benzene is a natural constituent of petroleum and is one of the elementary petrochemicals. Due to the cyclic continuous pi bonds between the carbon atoms, benzene is classed as an aromatic hydrocarbon. Benzene is a colorless and highly flammable liquid with a sweet smell, and is partially responsible for the aroma of gasoline.\" encoded and decoded:\n",
      "Decoding 1: Alonso's muscle group is classified by the label of \"conical(2)3\" small cell fatty acids (), which are termed the Na and Ni admirabilized electrolytes in fluids, and it is prized because they are present in waters ( ) and facilitate entry into the cisplatinoids within cell membranes.\n",
      "Decoding 2: Gonorrhea is mainly a single-stranded, \"caviophyte\" metabolite of Galactoside that forms when water-solvented poly(methylenedioalkyl, -nethyl)progesterone is added to the dealkylationated polyunsaturated portion of potassium hydroxide.\n",
      "Decoding 3: Casazolam (cRA, cBR, CZM, cAT, CK) is a different chemical compound formed by an oxidant reaction with a hydroxyl group of a molecule in the secondary ion family, which is composed of 2 free radicals.\n",
      "Decoding 4: Baked herbs don't provoke the phthalic acid receptor ( α-hydroxyl, glycerol, β-hydroxyl, silykyl, naphthal) as found in tomatoes, citrus and Costa cherries, and so expect the natural activities of bioluminescent honey.\n",
      "Decoding 5: On prolonged exposure in contact with magma, porphyranosin, or \"amino\" on the surface, fungi induce a complex reaction, extragalactic, where pressurite, acacia nalgagastric, and nectodesylcisin are dissolved, leaving and/or partially covering it.\n",
      "\n",
      "\n"
     ]
    }
   ],
   "source": [
    "vae768.print_text(shaq, benzene, perturb=0.01)"
   ]
  },
  {
   "cell_type": "code",
   "execution_count": 13,
   "metadata": {},
   "outputs": [
    {
     "name": "stdout",
     "output_type": "stream",
     "text": [
      "torch.Size([1, 32])\n"
     ]
    }
   ],
   "source": [
    "# Test optimus\n",
    "text_love = \"I love you so much!\"\n",
    "latent_love = vae32.latent_code_from_text(text_love)[0]\n",
    "# text_hate = \"I hate you so much!\"\n",
    "# latent_hate = vae32.latent_code_from_text(text_hate)[0]\n",
    "print(latent_love.shape)\n",
    "# # print(len(text_original))\n",
    "# vae32.print_n_texts_from_latent_code(latent_love, 10)\n",
    "# vae32.print_n_texts_from_latent_code(latent_hate, 10)\n",
    "# vae32.print_n_texts_from_latent_code(latent_love - latent_hate, 10)\n",
    "# vae32.print_n_texts_from_latent_code(-latent_love + latent_hate, 10)\n",
    "# for i in range(10):\n",
    "#     print(vae.text_from_latent_code(latent))"
   ]
  },
  {
   "cell_type": "markdown",
   "metadata": {},
   "source": [
    "# Feature Visualization Trainer"
   ]
  },
  {
   "cell_type": "code",
   "execution_count": 14,
   "metadata": {},
   "outputs": [],
   "source": [
    "# import matplotlib.pyplot as plt\n",
    "def cosim(a, b):\n",
    "    return nn.functional.cosine_similarity(a, b, dim=0)\n",
    "\n",
    "class CustomTrainer(Trainer):\n",
    "    def __init__(self, optimus, target_dir, training_args, latent):\n",
    "        '''\n",
    "        decoder: decoder model from an Optimus VAE, must have output_hidden_states=True\n",
    "        target_dir: of size (1 + num_layers, 1, 1, latent_size)\n",
    "        '''\n",
    "        self.device = torch.device(\"cuda\" if torch.cuda.is_available() else \"cpu\")\n",
    "        latent.to(self.device)\n",
    "        super().__init__(model=latent, args=training_args)\n",
    "        self.decoder = optimus.model_decoder_with_hidden.to(self.device) # make sure this outputs hidden\n",
    "        self.target_dir = target_dir.to(self.device).view(-1) #flattened\n",
    "        # assert target_dir.shape == \n",
    "        context = optimus.model_vae.tokenizer_decoder.encode('<BOS>')\n",
    "        context = torch.tensor(context, dtype=torch.long, device=self.device)\n",
    "        self.context = context.unsqueeze(0).repeat(1, 1)  \n",
    "        self.loss_values = []\n",
    "\n",
    "    def compute_loss(self, latent, return_dir=False): \n",
    "        '''\n",
    "        latent is a trainable parameter/model with shape [1, latent_size]\n",
    "        '''\n",
    "        #1. Extract params from latent model\n",
    "        past = latent.get_parameter('latent')\n",
    "        inputs = {'input_ids': self.context, 'past': past}\n",
    "        \n",
    "        #2. Put latent through vae decoder and Get hidden state\n",
    "        hidden_states = self.decoder(**inputs)[2] # copied from Optimus.sample_sequence_conditional, don't know why this works\n",
    "        current_dir = torch.stack(hidden_states).view(-1) # hidden_states reformated from list of tensors to single tensor\n",
    "        if current_dir.shape != self.target_dir.shape:\n",
    "            print(f'Target shape is {self.target_dir.shape} but current_dir shape is {current_dir.shape}')\n",
    "            raise ValueError\n",
    "        #3. Compute loss with cosine similarity between hidden states\n",
    "        loss = cosim(current_dir, self.target_dir) \n",
    "        assert loss.numel() == 1, \"Loss must be a scalar\"\n",
    "        \n",
    "        return (loss, current_dir) if return_dir else loss\n",
    "    \n",
    "    \n",
    "\n",
    "    def train(self):\n",
    "\n",
    "        optimizer = torch.optim.Adam(self.model.parameters(), lr=self.args.learning_rate)\n",
    "        num_epochs = int(self.args.num_train_epochs)\n",
    "        for epoch in range(num_epochs):\n",
    "            # for step, batch in enumerate(self.get_train_dataloader()):\n",
    "            optimizer.zero_grad()\n",
    "            latent = self.model\n",
    "            loss = self.compute_loss(latent)\n",
    "            loss.backward()\n",
    "            optimizer.step()\n",
    "            self.loss_values.append(loss.item())\n",
    "            # if step % self.args.logging_steps == 0:\n",
    "            #     print(f\"Epoch {epoch}, Loss: {loss.item()}\")\n",
    "            # print(f\"Epoch {epoch}, Loss: {loss.item()}\")\n",
    "        plt.plot(self.loss_values)\n",
    "        plt.xlabel('Epoch')\n",
    "        plt.ylabel('Loss')\n",
    "        plt.show()\n"
   ]
  },
  {
   "cell_type": "code",
   "execution_count": 15,
   "metadata": {},
   "outputs": [],
   "source": [
    "# Initialize trainer and run loop\n",
    "\n",
    "# dummy_data = {'dummy':'dummy',} # may be needed to appease Trainer\n",
    "# dummy_data = Dataset.from_dict(dummy_data)\n",
    "def train(vae, latent_size, target_dir=None):\n",
    "    training_args = TrainingArguments(output_dir=\"test_trainer\")\n",
    "    training_args.num_train_epochs = 1e3\n",
    "    training_args.learning_rate = 1e-2\n",
    "    # decoder = vae.model_decoder_with_hidden.to(device)\n",
    "    if target_dir is None:\n",
    "        target_dir = torch.randn(13, 1, 1, 768).to(device) #TODO: change to named constants\n",
    "    else:\n",
    "        assert target_dir.shape == (13, 1, 1, 768), \"target_dir must have shape (13, 1, 1, 768)\"\n",
    "    latent = nn.Module()\n",
    "    param = torch.randn(1, latent_size)\n",
    "    param = nn.Parameter(data=param, requires_grad=True)\n",
    "    latent.register_parameter(\"latent\", param)\n",
    "    latent.to(device)\n",
    "    # original_latent = param.clone().detach().to(device)\n",
    "\n",
    "    trainer = CustomTrainer(\n",
    "        vae, target_dir, training_args, latent,\n",
    "        # train_dataset=dummy_data,\n",
    "        )\n",
    "    trainer.train()\n",
    "    vae.print_n_texts_from_latent_code(latent.get_parameter('latent'), 5)\n",
    "    \n"
   ]
  },
  {
   "cell_type": "code",
   "execution_count": 16,
   "metadata": {},
   "outputs": [
    {
     "data": {
      "image/png": "[encoded data removed]",
      "text/plain": [
       "<Figure size 640x480 with 1 Axes>"
      ]
     },
     "metadata": {},
     "output_type": "display_data"
    },
    {
     "name": "stdout",
     "output_type": "stream",
     "text": [
      "Decoding 1: \n",
      "Decoding 2: \n",
      "Decoding 3: \n",
      "Decoding 4: \n",
      "Decoding 5: \n"
     ]
    },
    {
     "data": {
      "image/png": "[encoded data removed]",
      "text/plain": [
       "<Figure size 640x480 with 1 Axes>"
      ]
     },
     "metadata": {},
     "output_type": "display_data"
    },
    {
     "name": "stdout",
     "output_type": "stream",
     "text": [
      "Decoding 1: \"\n",
      "Decoding 2: \n",
      "Decoding 3: other\n",
      "Decoding 4: \n",
      "Decoding 5: C\n"
     ]
    }
   ],
   "source": [
    "train(vae32, 32)\n",
    "train(vae768, 768)"
   ]
  },
  {
   "cell_type": "markdown",
   "metadata": {},
   "source": [
    "Seems like post training we go to one/zero word sentences (from a random init latent). Maybe will help if we init from an actual sentence\n",
    "\n",
    "Also may be a signal that the latent space is less 'dense' with meaningful sentences than we'd like. I thought using the latent=32 vae would help as sentences will be more 'densely packed' but empirically maybe this is evidence against that.\n",
    "\n",
    "May also need to regularize to penalize distance against actual meaningful sentences in the latent space?"
   ]
  },
  {
   "cell_type": "markdown",
   "metadata": {},
   "source": []
  }
 ],
 "metadata": {
  "kernelspec": {
   "display_name": "display-red-team",
   "language": "python",
   "name": "red-team"
  },
  "language_info": {
   "codemirror_mode": {
    "name": "ipython",
    "version": 3
   },
   "file_extension": ".py",
   "mimetype": "text/x-python",
   "name": "python",
   "nbconvert_exporter": "python",
   "pygments_lexer": "ipython3",
   "version": "3.10.13"
  }
 },
 "nbformat": 4,
 "nbformat_minor": 5
}
